{
 "cells": [
  {
   "cell_type": "code",
   "execution_count": null,
   "metadata": {},
   "outputs": [],
   "source": [
    "import Dan_functions as Dan\n",
    "from Dan_functions import * "
   ]
  },
  {
   "cell_type": "code",
   "execution_count": 11,
   "metadata": {},
   "outputs": [
    {
     "ename": "NameError",
     "evalue": "name 'save_dataframe_to_csv' is not defined",
     "output_type": "error",
     "traceback": [
      "\u001b[0;31m---------------------------------------------------------------------------\u001b[0m",
      "\u001b[0;31mNameError\u001b[0m                                 Traceback (most recent call last)",
      "Cell \u001b[0;32mIn[11], line 11\u001b[0m\n\u001b[1;32m      9\u001b[0m \u001b[38;5;66;03m# Clean the data\u001b[39;00m\n\u001b[1;32m     10\u001b[0m clean_data(final_df)\n\u001b[0;32m---> 11\u001b[0m save_dataframe_to_csv(final_df, \u001b[38;5;124m'\u001b[39m\u001b[38;5;124m/Users/skyler/Documents/GitHub/Second-big-project-/Project-Two-Big/Data/Cleaned/final_df.csv\u001b[39m\u001b[38;5;124m'\u001b[39m)\n",
      "\u001b[0;31mNameError\u001b[0m: name 'save_dataframe_to_csv' is not defined"
     ]
    }
   ],
   "source": [
    "# Load the data\n",
    "\n",
    "demo_path = '../Data/Raw/df_final_demo (1).txt'\n",
    "client_path = '../Data/Raw/df_final_experiment_clients.txt'\n",
    "web_path1 = '../Data/Raw/df_final_web_data_pt_1.txt'\n",
    "web_path2 = '../Data/Raw/df_final_web_data_pt_2.txt'\n",
    "\n",
    "final_df = load_merge_date(demo_path, client_path, web_path1, web_path2)\n",
    "# Clean the data\n",
    "clean_data(final_df)\n",
    "save_dataframe_to_csv(final_df, '/Users/skyler/Documents/GitHub/Second-big-project-/Project-Two-Big/Data/Cleaned/final_df.csv')\n"
   ]
  },
  {
   "cell_type": "code",
   "execution_count": 8,
   "metadata": {},
   "outputs": [
    {
     "ename": "NameError",
     "evalue": "name 'create_pairplot' is not defined",
     "output_type": "error",
     "traceback": [
      "\u001b[0;31m---------------------------------------------------------------------------\u001b[0m",
      "\u001b[0;31mNameError\u001b[0m                                 Traceback (most recent call last)",
      "Cell \u001b[0;32mIn[8], line 1\u001b[0m\n\u001b[0;32m----> 1\u001b[0m create_pairplot(final_df)\n\u001b[1;32m      2\u001b[0m generate_account_plot(final_df)\n",
      "\u001b[0;31mNameError\u001b[0m: name 'create_pairplot' is not defined"
     ]
    }
   ],
   "source": [
    "create_pairplot(final_df)\n",
    "generate_account_plot(final_df)"
   ]
  },
  {
   "cell_type": "code",
   "execution_count": null,
   "metadata": {},
   "outputs": [],
   "source": []
  },
  {
   "cell_type": "code",
   "execution_count": null,
   "metadata": {},
   "outputs": [],
   "source": []
  }
 ],
 "metadata": {
  "kernelspec": {
   "display_name": "base",
   "language": "python",
   "name": "python3"
  },
  "language_info": {
   "codemirror_mode": {
    "name": "ipython",
    "version": 3
   },
   "file_extension": ".py",
   "mimetype": "text/x-python",
   "name": "python",
   "nbconvert_exporter": "python",
   "pygments_lexer": "ipython3",
   "version": "3.11.7"
  }
 },
 "nbformat": 4,
 "nbformat_minor": 2
}
